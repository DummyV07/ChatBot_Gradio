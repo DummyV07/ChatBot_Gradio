{
 "cells": [
  {
   "cell_type": "markdown",
   "metadata": {},
   "source": [
    "## 基于llamaindex去构建一个完整的流程\n",
    "- 将用于检索的块与用于合成的块儿分离\n",
    "- 大型文档集的结构化检索\n",
    "- 根据任务动态检索块\n",
    "- 优化上下文嵌入"
   ]
  },
  {
   "cell_type": "markdown",
   "metadata": {},
   "source": [
    "### 向量数据库的构建"
   ]
  },
  {
   "cell_type": "code",
   "execution_count": null,
   "metadata": {},
   "outputs": [],
   "source": [
    "from dotenv import load_dotenv, find_dotenv\n",
    "\n",
    "# 加载.env文件获取API-key\n",
    "load_dotenv(find_dotenv())"
   ]
  },
  {
   "cell_type": "code",
   "execution_count": 1,
   "metadata": {},
   "outputs": [
    {
     "name": "stderr",
     "output_type": "stream",
     "text": [
      "[nltk_data] Downloading package punkt_tab to\n",
      "[nltk_data]     /Users/dummy/anaconda3/envs/pytorch/lib/python3.8/site\n",
      "[nltk_data]     -packages/llama_index/core/_static/nltk_cache...\n",
      "[nltk_data]   Package punkt_tab is already up-to-date!\n"
     ]
    }
   ],
   "source": [
    "# 文档读取\n",
    "from llama_index.core import SimpleDirectoryReader\n",
    "# 在底层，这会将您的文档拆分为节点对象，这些对象类似于文档（它们包含文本和元数据）但与其父文档有关系。\n",
    "from llama_index.core import VectorStoreIndex\n",
    "from llama_index.core.node_parser import SentenceSplitter\n",
    "\n",
    "# 读取文档\n",
    "# documents = SimpleDirectoryReader(\"./data\").load_data()\n"
   ]
  },
  {
   "cell_type": "code",
   "execution_count": 2,
   "metadata": {},
   "outputs": [],
   "source": [
    "# SimpleDirectoryReader(input_files=[\"./data/english.pdf\"])"
   ]
  },
  {
   "cell_type": "code",
   "execution_count": 9,
   "metadata": {},
   "outputs": [
    {
     "name": "stdout",
     "output_type": "stream",
     "text": [
      "共有25页\n",
      "2024考研英语阅读预测\n",
      "李达\n",
      "第一节历年阅读来源、话题整理\n",
      "年份话题 杂志/期刊出处\n",
      "2023text1环保-假草坪的好坏纷争； 《泰晤士报》\n",
      "text2社会-美国国家公园面临的问题 《洛杉矶时报》\n",
      "text3科技-网络改变人的记忆； 《美国时代周刊》\n",
      "text4教育-青少年时期的矛盾行为； 《华尔街日报》\n",
      "2022text1环保-环境友好型鸡蛋和可再生农场 《彭博观点》\n",
      "text2社会-很多美国人选择在退休后继续工作； 《今日美国》\n",
      "text3法制-如何远离“灰暗模式（侵犯用户隐私）”；《福布斯》\n",
      "text4教育-伦理道德课程可否改变人们行为 《科学美国人》\n",
      "2021text1社会-是时候开展技能培训了； 《环球邮报》\n",
      "text2经济-英国脱欧之后实现食物自给自足不过是一场梦；《新科学家》\n",
      "text3经济-科技巨头“先买再杀”策略收到严格审查《金融时报》\n",
      "text4心理-直觉有时比深思更准确 《今日心理学》\n",
      "2020text1科技-老鼠与机器鼠交朋友并就其脱险 《新科学家》\n",
      "text2经济-为什么CEO理应获得亿万美元高新； 《时代周刊》\n",
      "text3环保-“清新空气区”； 《卫报》\n",
      "text4社会-Z时代的工作 《新闻周刊》\n",
      "2019text1心理-内疚感可能是好事； 《大西洋月刊》\n"
     ]
    }
   ],
   "source": [
    "# def get_meta(file_path):\n",
    "#     return {\"foo\": \"bar\", \"file_path\": file_path}\n",
    "\n",
    "dic = SimpleDirectoryReader(input_files=[\"./data/english.pdf\"])\n",
    "docs = dic.load_data()\n",
    "print(f'共有{len(docs)}页')\n",
    "\n",
    "\n",
    "print(docs[0].text)"
   ]
  },
  {
   "cell_type": "code",
   "execution_count": 3,
   "metadata": {},
   "outputs": [
    {
     "name": "stdout",
     "output_type": "stream",
     "text": [
      "Looking in indexes: https://mirrors.aliyun.com/pypi/simple\n",
      "Requirement already satisfied: nest_asyncio in /Users/dummy/anaconda3/envs/pytorch/lib/python3.8/site-packages (1.6.0)\n",
      "Note: you may need to restart the kernel to use updated packages.\n"
     ]
    }
   ],
   "source": [
    "pip install nest_asyncio"
   ]
  },
  {
   "cell_type": "code",
   "execution_count": 2,
   "metadata": {},
   "outputs": [
    {
     "name": "stdout",
     "output_type": "stream",
     "text": [
      "Started parsing the file under job_id 620ef72d-e445-400d-908d-a602368c0b51\n",
      "Doc ID: d518d5c2-fdac-4e87-bea2-00b36b0b2679\n",
      "Text: # 2024考研英语阅读预测  # 李达  # 第一节     历年阅读来源、话题整理  |年份|话题|杂志/期刊出处|\n",
      "|---|---|---| |2023|环保-假草坪的好坏纷争|《泰晤士报》| |2023|社会-美国国家公园面临的问题|《洛杉矶时报》|\n",
      "|2023|科技-网络改变人的记忆|《美国时代周刊》| |2023|教育-青少年时期的矛盾行为|《华尔街日报》| |2022|环保-\n",
      "环境友好型鸡蛋和可再生农场|《彭博观点》| |2022|社会-很多美国人选择在退休后继续工作|《今日美国》| |2022|法制-\n",
      "如何远离“灰暗模式（侵犯用户隐私）”|《福布斯》| |2022|教育-伦理道德课程可否改变人们行为|《科学美国人》| |2022|社会-\n",
      "是时候开展技能培训了|《环球邮报》|...\n"
     ]
    }
   ],
   "source": [
    "import nest_asyncio\n",
    "nest_asyncio.apply()\n",
    "# bring in our LLAMA_CLOUD_API_KEY\n",
    "from dotenv import load_dotenv\n",
    "load_dotenv()\n",
    "\n",
    "# bring in deps\n",
    "from llama_parse import LlamaParse\n",
    "from llama_index.core import SimpleDirectoryReader\n",
    "\n",
    "# set up parser\n",
    "parser = LlamaParse(\n",
    "    result_type=\"markdown\"  # \"markdown\" and \"text\" are available\n",
    ")\n",
    "\n",
    "# use SimpleDirectoryReader to parse our file\n",
    "file_extractor = {\".pdf\": parser}\n",
    "documents = SimpleDirectoryReader(input_files=['data/english.pdf'], file_extractor=file_extractor).load_data()\n",
    "print(documents[0])"
   ]
  },
  {
   "cell_type": "code",
   "execution_count": null,
   "metadata": {},
   "outputs": [],
   "source": [
    "# 使用文件构建 \n",
    "from pathlib import Path\n",
    "from llama_index import download_loader\n",
    "\n",
    "# MarkdownReader = download_loader(\"MarkdownReader\") # 方法已被删除\n",
    "# reader = MarkdownReader()\n",
    "\n",
    "# documents = reader.load_data(Path(\"data/review.md\"))"
   ]
  },
  {
   "cell_type": "code",
   "execution_count": null,
   "metadata": {},
   "outputs": [],
   "source": [
    "# 对文档进行切分，将切分后的片段转化为embedding向量，构建向量索引\n",
    "index = VectorStoreIndex.from_documents(documents, transformations=[SentenceSplitter(chunk_size=256)])\n"
   ]
  },
  {
   "cell_type": "code",
   "execution_count": null,
   "metadata": {},
   "outputs": [],
   "source": [
    "# 将embedding向量和向量索引存储到文件中\n",
    "index.storage_context.persist(persist_dir='doc_emb')\n"
   ]
  },
  {
   "cell_type": "code",
   "execution_count": null,
   "metadata": {},
   "outputs": [],
   "source": [
    "# 构建查询引擎\n",
    "query_engine = index.as_query_engine(similarity_top_k=5)\n"
   ]
  },
  {
   "cell_type": "code",
   "execution_count": null,
   "metadata": {},
   "outputs": [],
   "source": [
    "# 查询获得答案\n",
    "response = query_engine.query(\"新进人员报到的主要流程是什么？\")"
   ]
  },
  {
   "cell_type": "code",
   "execution_count": null,
   "metadata": {},
   "outputs": [],
   "source": []
  },
  {
   "cell_type": "markdown",
   "metadata": {},
   "source": [
    "## 调优"
   ]
  },
  {
   "cell_type": "code",
   "execution_count": null,
   "metadata": {},
   "outputs": [],
   "source": []
  },
  {
   "cell_type": "code",
   "execution_count": null,
   "metadata": {},
   "outputs": [],
   "source": []
  },
  {
   "cell_type": "code",
   "execution_count": null,
   "metadata": {},
   "outputs": [],
   "source": []
  }
 ],
 "metadata": {
  "kernelspec": {
   "display_name": "pytorch",
   "language": "python",
   "name": "python3"
  },
  "language_info": {
   "codemirror_mode": {
    "name": "ipython",
    "version": 3
   },
   "file_extension": ".py",
   "mimetype": "text/x-python",
   "name": "python",
   "nbconvert_exporter": "python",
   "pygments_lexer": "ipython3",
   "version": "3.8.18"
  }
 },
 "nbformat": 4,
 "nbformat_minor": 2
}
