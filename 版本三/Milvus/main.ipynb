{
 "cells": [
  {
   "cell_type": "markdown",
   "metadata": {},
   "source": [
    "## 构建本地数据库"
   ]
  },
  {
   "cell_type": "code",
   "execution_count": 1,
   "metadata": {},
   "outputs": [
    {
     "name": "stdout",
     "output_type": "stream",
     "text": [
      "Looking in indexes: https://mirrors.aliyun.com/pypi/simple\n",
      "Collecting pymilvus\n",
      "  Downloading https://mirrors.aliyun.com/pypi/packages/ca/4f/a4f19ecdb779e8923146244fe25d944b5c6b2900e1eac3b34284461a676c/pymilvus-2.4.8-py3-none-any.whl (198 kB)\n",
      "\u001b[2K     \u001b[90m━━━━━━━━━━━━━━━━━━━━━━━━━━━━━━━━━━━━━\u001b[0m \u001b[32m198.9/198.9 kB\u001b[0m \u001b[31m726.2 kB/s\u001b[0m eta \u001b[36m0:00:00\u001b[0ma \u001b[36m0:00:01\u001b[0m\n",
      "\u001b[?25hCollecting setuptools>69 (from pymilvus)\n",
      "  Downloading https://mirrors.aliyun.com/pypi/packages/31/2d/90165d51ecd38f9a02c6832198c13a4e48652485e2ccf863ebb942c531b6/setuptools-75.2.0-py3-none-any.whl (1.2 MB)\n",
      "\u001b[2K     \u001b[90m━━━━━━━━━━━━━━━━━━━━━━━━━━━━━━━━━━━━━━━━\u001b[0m \u001b[32m1.2/1.2 MB\u001b[0m \u001b[31m2.3 MB/s\u001b[0m eta \u001b[36m0:00:00\u001b[0ma \u001b[36m0:00:01\u001b[0m\n",
      "\u001b[?25hRequirement already satisfied: grpcio>=1.49.1 in /Users/dummy/anaconda3/envs/pytorch/lib/python3.8/site-packages (from pymilvus) (1.62.2)\n",
      "Requirement already satisfied: protobuf>=3.20.0 in /Users/dummy/anaconda3/envs/pytorch/lib/python3.8/site-packages (from pymilvus) (3.20.3)\n",
      "Collecting environs<=9.5.0 (from pymilvus)\n",
      "  Downloading https://mirrors.aliyun.com/pypi/packages/ca/5e/f0f217dc393372681bfe05c50f06a212e78d0a3fee907a74ab451ec1dcdb/environs-9.5.0-py2.py3-none-any.whl (12 kB)\n",
      "Collecting ujson>=2.0.0 (from pymilvus)\n",
      "  Downloading https://mirrors.aliyun.com/pypi/packages/b7/8d/0902429667065ee1a30f400ff4f0e97f1139fc958121856d520c35da3d1e/ujson-5.10.0-cp38-cp38-macosx_11_0_arm64.whl (51 kB)\n",
      "\u001b[2K     \u001b[90m━━━━━━━━━━━━━━━━━━━━━━━━━━━━━━━━━━━━━━━━\u001b[0m \u001b[32m51.9/51.9 kB\u001b[0m \u001b[31m7.0 MB/s\u001b[0m eta \u001b[36m0:00:00\u001b[0m\n",
      "\u001b[?25hRequirement already satisfied: pandas>=1.2.4 in /Users/dummy/anaconda3/envs/pytorch/lib/python3.8/site-packages (from pymilvus) (2.0.3)\n",
      "Collecting setuptools>69 (from pymilvus)\n",
      "  Downloading https://mirrors.aliyun.com/pypi/packages/de/88/70c5767a0e43eb4451c2200f07d042a4bcd7639276003a9c54a68cfcc1f8/setuptools-70.0.0-py3-none-any.whl (863 kB)\n",
      "\u001b[2K     \u001b[90m━━━━━━━━━━━━━━━━━━━━━━━━━━━━━━━━━━━━━━━\u001b[0m \u001b[32m863.4/863.4 kB\u001b[0m \u001b[31m5.5 MB/s\u001b[0m eta \u001b[36m0:00:00\u001b[0ma \u001b[36m0:00:01\u001b[0m\n",
      "\u001b[?25hRequirement already satisfied: numpy<1.25.0 in /Users/dummy/anaconda3/envs/pytorch/lib/python3.8/site-packages (from pymilvus) (1.24.4)\n",
      "Collecting milvus-lite<2.5.0,>=2.4.0 (from pymilvus)\n",
      "  Downloading https://mirrors.aliyun.com/pypi/packages/17/20/9054ace78c61d64a6c24b8e3d6c8a73b23b447028e43c4d1e6c878e8294a/milvus_lite-2.4.10-py3-none-macosx_11_0_arm64.whl (19.9 MB)\n",
      "\u001b[2K     \u001b[90m━━━━━━━━━━━━━━━━━━━━━━━━━━━━━━━━━━━━━━━━\u001b[0m \u001b[32m19.9/19.9 MB\u001b[0m \u001b[31m2.6 MB/s\u001b[0m eta \u001b[36m0:00:00\u001b[0m00:01\u001b[0m00:01\u001b[0m\n",
      "\u001b[?25hRequirement already satisfied: marshmallow>=3.0.0 in /Users/dummy/anaconda3/envs/pytorch/lib/python3.8/site-packages (from environs<=9.5.0->pymilvus) (3.21.3)\n",
      "Requirement already satisfied: python-dotenv in /Users/dummy/anaconda3/envs/pytorch/lib/python3.8/site-packages (from environs<=9.5.0->pymilvus) (1.0.1)\n",
      "Requirement already satisfied: tqdm in /Users/dummy/anaconda3/envs/pytorch/lib/python3.8/site-packages (from milvus-lite<2.5.0,>=2.4.0->pymilvus) (4.66.4)\n",
      "Requirement already satisfied: python-dateutil>=2.8.2 in /Users/dummy/anaconda3/envs/pytorch/lib/python3.8/site-packages (from pandas>=1.2.4->pymilvus) (2.8.2)\n",
      "Requirement already satisfied: pytz>=2020.1 in /Users/dummy/anaconda3/envs/pytorch/lib/python3.8/site-packages (from pandas>=1.2.4->pymilvus) (2024.1)\n",
      "Requirement already satisfied: tzdata>=2022.1 in /Users/dummy/anaconda3/envs/pytorch/lib/python3.8/site-packages (from pandas>=1.2.4->pymilvus) (2024.1)\n",
      "Requirement already satisfied: packaging>=17.0 in /Users/dummy/anaconda3/envs/pytorch/lib/python3.8/site-packages (from marshmallow>=3.0.0->environs<=9.5.0->pymilvus) (24.1)\n",
      "Requirement already satisfied: six>=1.5 in /Users/dummy/anaconda3/envs/pytorch/lib/python3.8/site-packages (from python-dateutil>=2.8.2->pandas>=1.2.4->pymilvus) (1.16.0)\n",
      "Installing collected packages: ujson, setuptools, milvus-lite, environs, pymilvus\n",
      "  Attempting uninstall: setuptools\n",
      "    Found existing installation: setuptools 67.8.0\n",
      "    Uninstalling setuptools-67.8.0:\n",
      "      Successfully uninstalled setuptools-67.8.0\n",
      "Successfully installed environs-9.5.0 milvus-lite-2.4.10 pymilvus-2.4.8 setuptools-70.0.0 ujson-5.10.0\n"
     ]
    }
   ],
   "source": [
    "! pip install pymilvus"
   ]
  },
  {
   "cell_type": "code",
   "execution_count": 1,
   "metadata": {},
   "outputs": [],
   "source": [
    "#  要创建本地 Milvus 矢量数据库，只需MilvusClient通过指定一个文件名来实例化一个来存储所有数据，例如“milvus_demo.db”。\n",
    "\n",
    "from pymilvus import MilvusClient\n",
    "\n",
    "client = MilvusClient(\"milvus_demo.db\")\n",
    "\n",
    "# 生成了.milvus_demo.db.lock 和 milvus_demo.db\n"
   ]
  },
  {
   "cell_type": "markdown",
   "metadata": {},
   "source": [
    "## 数据存储器"
   ]
  },
  {
   "cell_type": "code",
   "execution_count": null,
   "metadata": {},
   "outputs": [],
   "source": []
  },
  {
   "cell_type": "markdown",
   "metadata": {},
   "source": [
    "## 检索方式"
   ]
  },
  {
   "cell_type": "code",
   "execution_count": null,
   "metadata": {},
   "outputs": [],
   "source": []
  }
 ],
 "metadata": {
  "kernelspec": {
   "display_name": "pytorch",
   "language": "python",
   "name": "python3"
  },
  "language_info": {
   "codemirror_mode": {
    "name": "ipython",
    "version": 3
   },
   "file_extension": ".py",
   "mimetype": "text/x-python",
   "name": "python",
   "nbconvert_exporter": "python",
   "pygments_lexer": "ipython3",
   "version": "3.8.18"
  }
 },
 "nbformat": 4,
 "nbformat_minor": 2
}
