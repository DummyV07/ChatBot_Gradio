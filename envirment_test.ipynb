{
 "cells": [
  {
   "cell_type": "markdown",
   "metadata": {},
   "source": [
    "## 一些环境测试"
   ]
  },
  {
   "cell_type": "code",
   "execution_count": 16,
   "metadata": {},
   "outputs": [
    {
     "data": {
      "text/plain": [
       "ChatCompletion(id='chatcmpl-363', choices=[Choice(finish_reason='stop', index=0, logprobs=None, message=ChatCompletionMessage(content='你好！有什么可以帮助你的吗？', refusal=None, role='assistant', function_call=None, tool_calls=None))], created=1729739812, model='qwen2:0.5b', object='chat.completion', service_tier=None, system_fingerprint='fp_ollama', usage=CompletionUsage(completion_tokens=8, prompt_tokens=21, total_tokens=29, completion_tokens_details=None))"
      ]
     },
     "execution_count": 16,
     "metadata": {},
     "output_type": "execute_result"
    }
   ],
   "source": [
    "# 启动ollama 服务 使用端口访问\n",
    " \n",
    "#ollama本身也可以的\n",
    " \n",
    "from openai import OpenAI\n",
    " \n",
    "client = OpenAI(\n",
    "    base_url = 'http://localhost:11434/v1',\n",
    "    api_key='---', # required, but unused\n",
    ")\n",
    " \n",
    "client.chat.completions.create(\n",
    "  model=\"qwen2:0.5b\",\n",
    "  messages=[\n",
    "    {\"role\": \"system\", \"content\": \"You are a helpful assistant.\"},\n",
    "    {\"role\": \"user\", \"content\": \"你好！\"},\n",
    "  ]\n",
    ")\n"
   ]
  },
  {
   "cell_type": "code",
   "execution_count": 3,
   "metadata": {},
   "outputs": [
    {
     "name": "stdout",
     "output_type": "stream",
     "text": [
      "你好！欢迎来到我平台上。你可以随时向我提问任何关于学习、生活或是技术方面的问题。有什么我可以帮助你解决的问题？请随时告诉我，我会尽力提供更优质的服务来支持你。\n"
     ]
    }
   ],
   "source": [
    "# 启动ollama 服务 使用端口访问\n",
    " \n",
    "#ollama本身也可以的\n",
    " \n",
    "from openai import OpenAI\n",
    " \n",
    "client = OpenAI(\n",
    "    base_url = 'http://localhost:11434/v1',\n",
    "    api_key='---', # required, but unused\n",
    ")\n",
    " \n",
    "response = client.chat.completions.create(\n",
    "  model=\"qwen2:0.5b\",\n",
    "  messages=[\n",
    "    {\"role\": \"system\", \"content\": \"You are a helpful assistant.\"},\n",
    "    {\"role\": \"user\", \"content\": \"你好！\"},\n",
    "  ]\n",
    ")\n",
    "print(response.choices[0].message.content)"
   ]
  },
  {
   "cell_type": "markdown",
   "metadata": {},
   "source": [
    "## Xinference 测试"
   ]
  },
  {
   "cell_type": "code",
   "execution_count": 1,
   "metadata": {},
   "outputs": [
    {
     "name": "stdout",
     "output_type": "stream",
     "text": [
      "Looking in indexes: https://mirrors.aliyun.com/pypi/simple\n",
      "Collecting xinference\n",
      "  Downloading https://mirrors.aliyun.com/pypi/packages/51/78/fa66a480f4cf6b8e8b53a451be61d28437bf1c1bc7fb394589cf25c95877/xinference-0.16.0-py3-none-any.whl (24.3 MB)\n",
      "\u001b[2K     \u001b[90m━━━━━━━━━━━━━━━━━━━━━━━━━━━━━━━━━━━━━━━\u001b[0m \u001b[32m24.3/24.3 MB\u001b[0m \u001b[31m276.1 kB/s\u001b[0m eta \u001b[36m0:00:00\u001b[0m00:01\u001b[0m00:03\u001b[0m\n",
      "\u001b[?25hCollecting xoscar>=0.3.0 (from xinference)\n",
      "  Downloading https://mirrors.aliyun.com/pypi/packages/ca/69/8d8e54acd34ad3be29548e04fcf0af60c72df2d50b321df54b2de5767350/xoscar-0.3.3-cp38-cp38-macosx_10_9_universal2.whl (2.1 MB)\n",
      "\u001b[2K     \u001b[90m━━━━━━━━━━━━━━━━━━━━━━━━━━━━━━━━━━━━━━━━\u001b[0m \u001b[32m2.1/2.1 MB\u001b[0m \u001b[31m294.1 kB/s\u001b[0m eta \u001b[36m0:00:00\u001b[0m00:01\u001b[0m00:01\u001b[0m\n",
      "\u001b[?25hRequirement already satisfied: torch in /Users/dummy/anaconda3/envs/pytorch/lib/python3.8/site-packages (from xinference) (2.4.1)\n",
      "Requirement already satisfied: gradio in /Users/dummy/anaconda3/envs/pytorch/lib/python3.8/site-packages (from xinference) (4.40.0)\n",
      "Requirement already satisfied: pillow in /Users/dummy/anaconda3/envs/pytorch/lib/python3.8/site-packages (from xinference) (10.0.0)\n",
      "Requirement already satisfied: click in /Users/dummy/anaconda3/envs/pytorch/lib/python3.8/site-packages (from xinference) (8.1.7)\n",
      "Requirement already satisfied: tqdm>=4.27 in /Users/dummy/anaconda3/envs/pytorch/lib/python3.8/site-packages (from xinference) (4.66.4)\n",
      "Requirement already satisfied: tabulate in /Users/dummy/anaconda3/envs/pytorch/lib/python3.8/site-packages (from xinference) (0.9.0)\n",
      "Requirement already satisfied: requests in /Users/dummy/anaconda3/envs/pytorch/lib/python3.8/site-packages (from xinference) (2.32.3)\n",
      "Requirement already satisfied: pydantic in /Users/dummy/anaconda3/envs/pytorch/lib/python3.8/site-packages (from xinference) (2.8.2)\n",
      "Collecting fastapi==0.110.3 (from xinference)\n",
      "  Downloading https://mirrors.aliyun.com/pypi/packages/1d/d1/5958526c3bdbed74f88bf69b86506db5b25a600207f0f688473667690de6/fastapi-0.110.3-py3-none-any.whl (91 kB)\n",
      "\u001b[2K     \u001b[90m━━━━━━━━━━━━━━━━━━━━━━━━━━━━━━━━━━━━━━━\u001b[0m \u001b[32m91.8/91.8 kB\u001b[0m \u001b[31m961.5 kB/s\u001b[0m eta \u001b[36m0:00:00\u001b[0ma \u001b[36m0:00:01\u001b[0m\n",
      "\u001b[?25hRequirement already satisfied: uvicorn in /Users/dummy/anaconda3/envs/pytorch/lib/python3.8/site-packages (from xinference) (0.30.5)\n",
      "Requirement already satisfied: huggingface-hub>=0.19.4 in /Users/dummy/anaconda3/envs/pytorch/lib/python3.8/site-packages (from xinference) (0.24.2)\n",
      "Requirement already satisfied: typing-extensions in /Users/dummy/anaconda3/envs/pytorch/lib/python3.8/site-packages (from xinference) (4.12.2)\n",
      "Requirement already satisfied: modelscope>=1.10.0 in /Users/dummy/anaconda3/envs/pytorch/lib/python3.8/site-packages (from xinference) (1.18.1)\n",
      "Collecting sse-starlette>=1.6.5 (from xinference)\n",
      "  Downloading https://mirrors.aliyun.com/pypi/packages/52/aa/36b271bc4fa1d2796311ee7c7283a3a1c348bad426d37293609ca4300eef/sse_starlette-2.1.3-py3-none-any.whl (9.4 kB)\n",
      "Requirement already satisfied: openai>1 in /Users/dummy/anaconda3/envs/pytorch/lib/python3.8/site-packages (from xinference) (1.50.0)\n",
      "Collecting python-jose[cryptography] (from xinference)\n",
      "  Downloading https://mirrors.aliyun.com/pypi/packages/bd/2d/e94b2f7bab6773c70efc70a61d66e312e1febccd9e0db6b9e0adf58cbad1/python_jose-3.3.0-py2.py3-none-any.whl (33 kB)\n",
      "Collecting passlib[bcrypt] (from xinference)\n",
      "  Downloading https://mirrors.aliyun.com/pypi/packages/3b/a4/ab6b7589382ca3df236e03faa71deac88cae040af60c071a78d254a62172/passlib-1.7.4-py2.py3-none-any.whl (525 kB)\n",
      "\u001b[2K     \u001b[90m━━━━━━━━━━━━━━━━━━━━━━━━━━━━━━━━━━━━━\u001b[0m \u001b[32m525.6/525.6 kB\u001b[0m \u001b[31m350.5 kB/s\u001b[0m eta \u001b[36m0:00:00\u001b[0ma \u001b[36m0:00:01\u001b[0m\n",
      "\u001b[?25hCollecting aioprometheus[starlette]>=23.12.0 (from xinference)\n",
      "  Downloading https://mirrors.aliyun.com/pypi/packages/91/21/c9e882ea8a7189b7d71ffb709db24708113896e81a25e074a17f9874d8be/aioprometheus-23.12.0-py3-none-any.whl (31 kB)\n",
      "Collecting nvidia-ml-py (from xinference)\n",
      "  Downloading https://mirrors.aliyun.com/pypi/packages/b7/f3/a69ce0b1a1e12fbf6b2ad9f4c14c9999fdbdf15f2478d210f0fd501ddc98/nvidia_ml_py-12.560.30-py3-none-any.whl (40 kB)\n",
      "\u001b[2K     \u001b[90m━━━━━━━━━━━━━━━━━━━━━━━━━━━━━━━━━━━━━━━━\u001b[0m \u001b[32m40.5/40.5 kB\u001b[0m \u001b[31m2.6 MB/s\u001b[0m eta \u001b[36m0:00:00\u001b[0m\n",
      "\u001b[?25hRequirement already satisfied: async-timeout in /Users/dummy/anaconda3/envs/pytorch/lib/python3.8/site-packages (from xinference) (4.0.3)\n",
      "Collecting peft (from xinference)\n",
      "  Downloading https://mirrors.aliyun.com/pypi/packages/78/9d/5f95bfb298c8d3b4e3a107701f9a4e7774a0d4d1f8eb0c9d5420b80f7c9d/peft-0.13.2-py3-none-any.whl (320 kB)\n",
      "\u001b[2K     \u001b[90m━━━━━━━━━━━━━━━━━━━━━━━━━━━━━━━━━━━━━\u001b[0m \u001b[32m320.7/320.7 kB\u001b[0m \u001b[31m555.1 kB/s\u001b[0m eta \u001b[36m0:00:00\u001b[0ma \u001b[36m0:00:01\u001b[0m\n",
      "\u001b[?25hCollecting timm (from xinference)\n",
      "  Downloading https://mirrors.aliyun.com/pypi/packages/77/f7/144d69d921fba82baa8498e279d782a12a13694f45ff74d1777bc3231ffe/timm-1.0.11-py3-none-any.whl (2.3 MB)\n",
      "\u001b[2K     \u001b[90m━━━━━━━━━━━━━━━━━━━━━━━━━━━━━━━━━━━━━━━━\u001b[0m \u001b[32m2.3/2.3 MB\u001b[0m \u001b[31m245.1 kB/s\u001b[0m eta \u001b[36m0:00:00\u001b[0m00:01\u001b[0m00:01\u001b[0m\n",
      "\u001b[?25hRequirement already satisfied: starlette<0.38.0,>=0.37.2 in /Users/dummy/anaconda3/envs/pytorch/lib/python3.8/site-packages (from fastapi==0.110.3->xinference) (0.37.2)\n",
      "Requirement already satisfied: orjson in /Users/dummy/anaconda3/envs/pytorch/lib/python3.8/site-packages (from aioprometheus[starlette]>=23.12.0->xinference) (3.10.6)\n",
      "Collecting quantile-python>=1.1 (from aioprometheus[starlette]>=23.12.0->xinference)\n",
      "  Downloading https://mirrors.aliyun.com/pypi/packages/08/16/fae6223773ceae17db7b3ce81479df01ffb30faebbbe63b55fe922c618c0/quantile-python-1.1.tar.gz (2.9 kB)\n",
      "  Preparing metadata (setup.py) ... \u001b[?25ldone\n",
      "\u001b[?25hRequirement already satisfied: filelock in /Users/dummy/anaconda3/envs/pytorch/lib/python3.8/site-packages (from huggingface-hub>=0.19.4->xinference) (3.12.2)\n",
      "Requirement already satisfied: fsspec>=2023.5.0 in /Users/dummy/anaconda3/envs/pytorch/lib/python3.8/site-packages (from huggingface-hub>=0.19.4->xinference) (2024.5.0)\n",
      "Requirement already satisfied: packaging>=20.9 in /Users/dummy/anaconda3/envs/pytorch/lib/python3.8/site-packages (from huggingface-hub>=0.19.4->xinference) (24.1)\n",
      "Requirement already satisfied: pyyaml>=5.1 in /Users/dummy/anaconda3/envs/pytorch/lib/python3.8/site-packages (from huggingface-hub>=0.19.4->xinference) (6.0.1)\n",
      "Requirement already satisfied: urllib3>=1.26 in /Users/dummy/anaconda3/envs/pytorch/lib/python3.8/site-packages (from modelscope>=1.10.0->xinference) (2.2.2)\n",
      "Requirement already satisfied: anyio<5,>=3.5.0 in /Users/dummy/anaconda3/envs/pytorch/lib/python3.8/site-packages (from openai>1->xinference) (3.7.1)\n",
      "Requirement already satisfied: distro<2,>=1.7.0 in /Users/dummy/anaconda3/envs/pytorch/lib/python3.8/site-packages (from openai>1->xinference) (1.9.0)\n",
      "Requirement already satisfied: httpx<1,>=0.23.0 in /Users/dummy/anaconda3/envs/pytorch/lib/python3.8/site-packages (from openai>1->xinference) (0.27.0)\n",
      "Requirement already satisfied: jiter<1,>=0.4.0 in /Users/dummy/anaconda3/envs/pytorch/lib/python3.8/site-packages (from openai>1->xinference) (0.5.0)\n",
      "Requirement already satisfied: sniffio in /Users/dummy/anaconda3/envs/pytorch/lib/python3.8/site-packages (from openai>1->xinference) (1.3.1)\n",
      "Requirement already satisfied: annotated-types>=0.4.0 in /Users/dummy/anaconda3/envs/pytorch/lib/python3.8/site-packages (from pydantic->xinference) (0.7.0)\n",
      "Requirement already satisfied: pydantic-core==2.20.1 in /Users/dummy/anaconda3/envs/pytorch/lib/python3.8/site-packages (from pydantic->xinference) (2.20.1)\n",
      "Requirement already satisfied: charset-normalizer<4,>=2 in /Users/dummy/anaconda3/envs/pytorch/lib/python3.8/site-packages (from requests->xinference) (3.2.0)\n",
      "Requirement already satisfied: idna<4,>=2.5 in /Users/dummy/anaconda3/envs/pytorch/lib/python3.8/site-packages (from requests->xinference) (3.4)\n",
      "Requirement already satisfied: certifi>=2017.4.17 in /Users/dummy/anaconda3/envs/pytorch/lib/python3.8/site-packages (from requests->xinference) (2024.2.2)\n",
      "Requirement already satisfied: numpy<2.0.0,>=1.14.0 in /Users/dummy/anaconda3/envs/pytorch/lib/python3.8/site-packages (from xoscar>=0.3.0->xinference) (1.24.4)\n",
      "Requirement already satisfied: pandas>=1.0.0 in /Users/dummy/anaconda3/envs/pytorch/lib/python3.8/site-packages (from xoscar>=0.3.0->xinference) (2.0.3)\n",
      "Collecting cloudpickle>=1.5.0 (from xoscar>=0.3.0->xinference)\n",
      "  Downloading https://mirrors.aliyun.com/pypi/packages/48/41/e1d85ca3cab0b674e277c8c4f678cf66a91cd2cecf93df94353a606fe0db/cloudpickle-3.1.0-py3-none-any.whl (22 kB)\n",
      "Requirement already satisfied: psutil>=5.9.0 in /Users/dummy/anaconda3/envs/pytorch/lib/python3.8/site-packages (from xoscar>=0.3.0->xinference) (5.9.0)\n",
      "Collecting tblib>=1.7.0 (from xoscar>=0.3.0->xinference)\n",
      "  Downloading https://mirrors.aliyun.com/pypi/packages/9b/87/ce70db7cae60e67851eb94e1a2127d4abb573d3866d2efd302ceb0d4d2a5/tblib-3.0.0-py3-none-any.whl (12 kB)\n",
      "Requirement already satisfied: uvloop>=0.14.0 in /Users/dummy/anaconda3/envs/pytorch/lib/python3.8/site-packages (from xoscar>=0.3.0->xinference) (0.19.0)\n",
      "Requirement already satisfied: scipy>=1.0.0 in /Users/dummy/anaconda3/envs/pytorch/lib/python3.8/site-packages (from xoscar>=0.3.0->xinference) (1.10.1)\n",
      "Requirement already satisfied: aiofiles<24.0,>=22.0 in /Users/dummy/anaconda3/envs/pytorch/lib/python3.8/site-packages (from gradio->xinference) (23.2.1)\n",
      "Requirement already satisfied: ffmpy in /Users/dummy/anaconda3/envs/pytorch/lib/python3.8/site-packages (from gradio->xinference) (0.4.0)\n",
      "Requirement already satisfied: gradio-client==1.2.0 in /Users/dummy/anaconda3/envs/pytorch/lib/python3.8/site-packages (from gradio->xinference) (1.2.0)\n",
      "Requirement already satisfied: importlib-resources<7.0,>=1.3 in /Users/dummy/anaconda3/envs/pytorch/lib/python3.8/site-packages (from gradio->xinference) (6.1.2)\n",
      "Requirement already satisfied: jinja2<4.0 in /Users/dummy/anaconda3/envs/pytorch/lib/python3.8/site-packages (from gradio->xinference) (3.1.2)\n",
      "Requirement already satisfied: markupsafe~=2.0 in /Users/dummy/anaconda3/envs/pytorch/lib/python3.8/site-packages (from gradio->xinference) (2.1.3)\n",
      "Requirement already satisfied: matplotlib~=3.0 in /Users/dummy/anaconda3/envs/pytorch/lib/python3.8/site-packages (from gradio->xinference) (3.5.2)\n",
      "Requirement already satisfied: pydub in /Users/dummy/anaconda3/envs/pytorch/lib/python3.8/site-packages (from gradio->xinference) (0.25.1)\n",
      "Requirement already satisfied: python-multipart>=0.0.9 in /Users/dummy/anaconda3/envs/pytorch/lib/python3.8/site-packages (from gradio->xinference) (0.0.9)\n",
      "Requirement already satisfied: ruff>=0.2.2 in /Users/dummy/anaconda3/envs/pytorch/lib/python3.8/site-packages (from gradio->xinference) (0.5.6)\n",
      "Requirement already satisfied: semantic-version~=2.0 in /Users/dummy/anaconda3/envs/pytorch/lib/python3.8/site-packages (from gradio->xinference) (2.10.0)\n",
      "Requirement already satisfied: tomlkit==0.12.0 in /Users/dummy/anaconda3/envs/pytorch/lib/python3.8/site-packages (from gradio->xinference) (0.12.0)\n",
      "Requirement already satisfied: typer<1.0,>=0.12 in /Users/dummy/anaconda3/envs/pytorch/lib/python3.8/site-packages (from gradio->xinference) (0.12.3)\n",
      "Requirement already satisfied: websockets<13.0,>=10.0 in /Users/dummy/anaconda3/envs/pytorch/lib/python3.8/site-packages (from gradio-client==1.2.0->gradio->xinference) (12.0)\n",
      "Requirement already satisfied: h11>=0.8 in /Users/dummy/anaconda3/envs/pytorch/lib/python3.8/site-packages (from uvicorn->xinference) (0.14.0)\n",
      "Requirement already satisfied: bcrypt>=3.1.0 in /Users/dummy/anaconda3/envs/pytorch/lib/python3.8/site-packages (from passlib[bcrypt]->xinference) (4.2.0)\n",
      "Requirement already satisfied: transformers in /Users/dummy/anaconda3/envs/pytorch/lib/python3.8/site-packages (from peft->xinference) (4.43.2)\n",
      "Requirement already satisfied: accelerate>=0.21.0 in /Users/dummy/anaconda3/envs/pytorch/lib/python3.8/site-packages (from peft->xinference) (0.33.0)\n",
      "Requirement already satisfied: safetensors in /Users/dummy/anaconda3/envs/pytorch/lib/python3.8/site-packages (from peft->xinference) (0.4.3)\n",
      "Requirement already satisfied: sympy in /Users/dummy/anaconda3/envs/pytorch/lib/python3.8/site-packages (from torch->xinference) (1.12)\n",
      "Requirement already satisfied: networkx in /Users/dummy/anaconda3/envs/pytorch/lib/python3.8/site-packages (from torch->xinference) (3.1)\n",
      "Collecting ecdsa!=0.15 (from python-jose[cryptography]->xinference)\n",
      "  Downloading https://mirrors.aliyun.com/pypi/packages/00/e7/ed3243b30d1bec41675b6394a1daae46349dc2b855cb83be846a5a918238/ecdsa-0.19.0-py2.py3-none-any.whl (149 kB)\n",
      "\u001b[2K     \u001b[90m━━━━━━━━━━━━━━━━━━━━━━━━━━━━━━━━━━━━━\u001b[0m \u001b[32m149.3/149.3 kB\u001b[0m \u001b[31m477.7 kB/s\u001b[0m eta \u001b[36m0:00:00\u001b[0ma \u001b[36m0:00:01\u001b[0m\n",
      "\u001b[?25hRequirement already satisfied: rsa in /Users/dummy/anaconda3/envs/pytorch/lib/python3.8/site-packages (from python-jose[cryptography]->xinference) (4.9)\n",
      "Requirement already satisfied: pyasn1 in /Users/dummy/anaconda3/envs/pytorch/lib/python3.8/site-packages (from python-jose[cryptography]->xinference) (0.6.0)\n",
      "Collecting cryptography>=3.4.0 (from python-jose[cryptography]->xinference)\n",
      "  Downloading https://mirrors.aliyun.com/pypi/packages/1f/f3/01fdf26701a26f4b4dbc337a26883ad5bccaa6f1bbbdd29cd89e22f18a1c/cryptography-43.0.3-cp37-abi3-macosx_10_9_universal2.whl (6.2 MB)\n",
      "\u001b[2K     \u001b[90m━━━━━━━━━━━━━━━━━━━━━━━━━━━━━━━━━━━━━━━━\u001b[0m \u001b[32m6.2/6.2 MB\u001b[0m \u001b[31m223.7 kB/s\u001b[0m eta \u001b[36m0:00:00\u001b[0m00:01\u001b[0m00:01\u001b[0m\n",
      "\u001b[?25hRequirement already satisfied: torchvision in /Users/dummy/anaconda3/envs/pytorch/lib/python3.8/site-packages (from timm->xinference) (0.19.1)\n",
      "Requirement already satisfied: exceptiongroup in /Users/dummy/anaconda3/envs/pytorch/lib/python3.8/site-packages (from anyio<5,>=3.5.0->openai>1->xinference) (1.2.0)\n",
      "Requirement already satisfied: cffi>=1.12 in /Users/dummy/anaconda3/envs/pytorch/lib/python3.8/site-packages (from cryptography>=3.4.0->python-jose[cryptography]->xinference) (1.16.0)\n",
      "Requirement already satisfied: six>=1.9.0 in /Users/dummy/anaconda3/envs/pytorch/lib/python3.8/site-packages (from ecdsa!=0.15->python-jose[cryptography]->xinference) (1.16.0)\n",
      "Requirement already satisfied: httpcore==1.* in /Users/dummy/anaconda3/envs/pytorch/lib/python3.8/site-packages (from httpx<1,>=0.23.0->openai>1->xinference) (1.0.5)\n",
      "Requirement already satisfied: zipp>=3.1.0 in /Users/dummy/anaconda3/envs/pytorch/lib/python3.8/site-packages (from importlib-resources<7.0,>=1.3->gradio->xinference) (3.17.0)\n",
      "Requirement already satisfied: cycler>=0.10 in /Users/dummy/anaconda3/envs/pytorch/lib/python3.8/site-packages (from matplotlib~=3.0->gradio->xinference) (0.12.1)\n",
      "Requirement already satisfied: fonttools>=4.22.0 in /Users/dummy/anaconda3/envs/pytorch/lib/python3.8/site-packages (from matplotlib~=3.0->gradio->xinference) (4.49.0)\n",
      "Requirement already satisfied: kiwisolver>=1.0.1 in /Users/dummy/anaconda3/envs/pytorch/lib/python3.8/site-packages (from matplotlib~=3.0->gradio->xinference) (1.4.5)\n",
      "Requirement already satisfied: pyparsing>=2.2.1 in /Users/dummy/anaconda3/envs/pytorch/lib/python3.8/site-packages (from matplotlib~=3.0->gradio->xinference) (3.1.1)\n",
      "Requirement already satisfied: python-dateutil>=2.7 in /Users/dummy/anaconda3/envs/pytorch/lib/python3.8/site-packages (from matplotlib~=3.0->gradio->xinference) (2.8.2)\n",
      "Requirement already satisfied: pytz>=2020.1 in /Users/dummy/anaconda3/envs/pytorch/lib/python3.8/site-packages (from pandas>=1.0.0->xoscar>=0.3.0->xinference) (2024.1)\n",
      "Requirement already satisfied: tzdata>=2022.1 in /Users/dummy/anaconda3/envs/pytorch/lib/python3.8/site-packages (from pandas>=1.0.0->xoscar>=0.3.0->xinference) (2024.1)\n",
      "Requirement already satisfied: shellingham>=1.3.0 in /Users/dummy/anaconda3/envs/pytorch/lib/python3.8/site-packages (from typer<1.0,>=0.12->gradio->xinference) (1.5.4)\n",
      "Requirement already satisfied: rich>=10.11.0 in /Users/dummy/anaconda3/envs/pytorch/lib/python3.8/site-packages (from typer<1.0,>=0.12->gradio->xinference) (13.7.1)\n",
      "Requirement already satisfied: mpmath>=0.19 in /Users/dummy/anaconda3/envs/pytorch/lib/python3.8/site-packages (from sympy->torch->xinference) (1.3.0)\n",
      "Requirement already satisfied: regex!=2019.12.17 in /Users/dummy/anaconda3/envs/pytorch/lib/python3.8/site-packages (from transformers->peft->xinference) (2024.7.24)\n",
      "Requirement already satisfied: tokenizers<0.20,>=0.19 in /Users/dummy/anaconda3/envs/pytorch/lib/python3.8/site-packages (from transformers->peft->xinference) (0.19.1)\n",
      "Requirement already satisfied: pycparser in /Users/dummy/anaconda3/envs/pytorch/lib/python3.8/site-packages (from cffi>=1.12->cryptography>=3.4.0->python-jose[cryptography]->xinference) (2.21)\n",
      "Requirement already satisfied: markdown-it-py>=2.2.0 in /Users/dummy/anaconda3/envs/pytorch/lib/python3.8/site-packages (from rich>=10.11.0->typer<1.0,>=0.12->gradio->xinference) (3.0.0)\n",
      "Requirement already satisfied: pygments<3.0.0,>=2.13.0 in /Users/dummy/anaconda3/envs/pytorch/lib/python3.8/site-packages (from rich>=10.11.0->typer<1.0,>=0.12->gradio->xinference) (2.15.1)\n",
      "Requirement already satisfied: mdurl~=0.1 in /Users/dummy/anaconda3/envs/pytorch/lib/python3.8/site-packages (from markdown-it-py>=2.2.0->rich>=10.11.0->typer<1.0,>=0.12->gradio->xinference) (0.1.2)\n",
      "Building wheels for collected packages: quantile-python\n",
      "  Building wheel for quantile-python (setup.py) ... \u001b[?25ldone\n",
      "\u001b[?25h  Created wheel for quantile-python: filename=quantile_python-1.1-py3-none-any.whl size=3442 sha256=2e333dcfd1b5f1cb51dab80e0241acead0e3d3741f7b7d753a68e75091ee8e04\n",
      "  Stored in directory: /Users/dummy/Library/Caches/pip/wheels/6c/ce/1b/b25f7d0b663ebe23e37d33d8fab80649ead8a9e9f05937f8f2\n",
      "Successfully built quantile-python\n",
      "Installing collected packages: quantile-python, passlib, nvidia-ml-py, tblib, ecdsa, cloudpickle, aioprometheus, python-jose, cryptography, xoscar, sse-starlette, fastapi, timm, peft, xinference\n",
      "  Attempting uninstall: fastapi\n",
      "    Found existing installation: fastapi 0.112.0\n",
      "    Uninstalling fastapi-0.112.0:\n",
      "      Successfully uninstalled fastapi-0.112.0\n",
      "Successfully installed aioprometheus-23.12.0 cloudpickle-3.1.0 cryptography-43.0.3 ecdsa-0.19.0 fastapi-0.110.3 nvidia-ml-py-12.560.30 passlib-1.7.4 peft-0.13.2 python-jose-3.3.0 quantile-python-1.1 sse-starlette-2.1.3 tblib-3.0.0 timm-1.0.11 xinference-0.16.0 xoscar-0.3.3\n"
     ]
    }
   ],
   "source": [
    "! pip install xinference"
   ]
  },
  {
   "cell_type": "code",
   "execution_count": 17,
   "metadata": {},
   "outputs": [],
   "source": [
    "from xinference.client import Client\n",
    "\n",
    "client = Client(\"http://localhost:11434\")"
   ]
  },
  {
   "cell_type": "code",
   "execution_count": null,
   "metadata": {},
   "outputs": [],
   "source": [
    "# Chat to LLM\n",
    "model.chat(\n",
    "   messages=[{\"role\": \"system\", \"content\": \"You are a helpful assistant\"}, {\"role\": \"user\", \"content\": \"What is the largest animal?\"}],\n",
    "   generate_config={\"max_tokens\": 1024}\n",
    ")"
   ]
  },
  {
   "cell_type": "code",
   "execution_count": 10,
   "metadata": {},
   "outputs": [
    {
     "ename": "KeyError",
     "evalue": "'model_type'",
     "output_type": "error",
     "traceback": [
      "\u001b[0;31m---------------------------------------------------------------------------\u001b[0m",
      "\u001b[0;31mKeyError\u001b[0m                                  Traceback (most recent call last)",
      "Cell \u001b[0;32mIn[10], line 4\u001b[0m\n\u001b[1;32m      1\u001b[0m \u001b[38;5;28;01mfrom\u001b[39;00m \u001b[38;5;21;01mxinference\u001b[39;00m\u001b[38;5;21;01m.\u001b[39;00m\u001b[38;5;21;01mclient\u001b[39;00m \u001b[38;5;28;01mimport\u001b[39;00m Client\n\u001b[1;32m      3\u001b[0m client \u001b[38;5;241m=\u001b[39m Client(\u001b[38;5;124m\"\u001b[39m\u001b[38;5;124mhttp://localhost:11434\u001b[39m\u001b[38;5;124m\"\u001b[39m)\n\u001b[0;32m----> 4\u001b[0m response \u001b[38;5;241m=\u001b[39m \u001b[43mclient\u001b[49m\u001b[38;5;241;43m.\u001b[39;49m\u001b[43mget_model\u001b[49m\u001b[43m(\u001b[49m\u001b[38;5;124;43m\"\u001b[39;49m\u001b[38;5;124;43mqwen2:0.5b\u001b[39;49m\u001b[38;5;124;43m\"\u001b[39;49m\u001b[43m)\u001b[49m\n\u001b[1;32m      5\u001b[0m desc \u001b[38;5;241m=\u001b[39m response\u001b[38;5;241m.\u001b[39mjson()\n\u001b[1;32m      6\u001b[0m \u001b[38;5;28mprint\u001b[39m(desc)  \u001b[38;5;66;03m# 打印出描述信息来检查其内容\u001b[39;00m\n",
      "File \u001b[0;32m~/anaconda3/envs/pytorch/lib/python3.8/site-packages/xinference/client/restful/restful_client.py:1011\u001b[0m, in \u001b[0;36mClient.get_model\u001b[0;34m(self, model_uid)\u001b[0m\n\u001b[1;32m   1006\u001b[0m     \u001b[38;5;28;01mraise\u001b[39;00m \u001b[38;5;167;01mRuntimeError\u001b[39;00m(\n\u001b[1;32m   1007\u001b[0m         \u001b[38;5;124mf\u001b[39m\u001b[38;5;124m\"\u001b[39m\u001b[38;5;124mFailed to get the model description, detail: \u001b[39m\u001b[38;5;132;01m{\u001b[39;00m_get_error_string(response)\u001b[38;5;132;01m}\u001b[39;00m\u001b[38;5;124m\"\u001b[39m\n\u001b[1;32m   1008\u001b[0m     )\n\u001b[1;32m   1009\u001b[0m desc \u001b[38;5;241m=\u001b[39m response\u001b[38;5;241m.\u001b[39mjson()\n\u001b[0;32m-> 1011\u001b[0m \u001b[38;5;28;01mif\u001b[39;00m \u001b[43mdesc\u001b[49m\u001b[43m[\u001b[49m\u001b[38;5;124;43m\"\u001b[39;49m\u001b[38;5;124;43mmodel_type\u001b[39;49m\u001b[38;5;124;43m\"\u001b[39;49m\u001b[43m]\u001b[49m \u001b[38;5;241m==\u001b[39m \u001b[38;5;124m\"\u001b[39m\u001b[38;5;124mLLM\u001b[39m\u001b[38;5;124m\"\u001b[39m:\n\u001b[1;32m   1012\u001b[0m     \u001b[38;5;28;01mif\u001b[39;00m \u001b[38;5;124m\"\u001b[39m\u001b[38;5;124mchat\u001b[39m\u001b[38;5;124m\"\u001b[39m \u001b[38;5;129;01min\u001b[39;00m desc[\u001b[38;5;124m\"\u001b[39m\u001b[38;5;124mmodel_ability\u001b[39m\u001b[38;5;124m\"\u001b[39m]:\n\u001b[1;32m   1013\u001b[0m         \u001b[38;5;28;01mreturn\u001b[39;00m RESTfulChatModelHandle(\n\u001b[1;32m   1014\u001b[0m             model_uid, \u001b[38;5;28mself\u001b[39m\u001b[38;5;241m.\u001b[39mbase_url, auth_headers\u001b[38;5;241m=\u001b[39m\u001b[38;5;28mself\u001b[39m\u001b[38;5;241m.\u001b[39m_headers\n\u001b[1;32m   1015\u001b[0m         )\n",
      "\u001b[0;31mKeyError\u001b[0m: 'model_type'"
     ]
    }
   ],
   "source": [
    "from xinference.client import Client\n",
    "\n",
    "client = Client(\"http://localhost:11434\")\n",
    "response = client.get_model(\"qwen2:0.5b\")\n",
    "desc = response.json()\n",
    "print(desc)  # 打印出描述信息来检查其内容\n",
    "\n"
   ]
  }
 ],
 "metadata": {
  "kernelspec": {
   "display_name": "pytorch",
   "language": "python",
   "name": "python3"
  },
  "language_info": {
   "codemirror_mode": {
    "name": "ipython",
    "version": 3
   },
   "file_extension": ".py",
   "mimetype": "text/x-python",
   "name": "python",
   "nbconvert_exporter": "python",
   "pygments_lexer": "ipython3",
   "version": "3.8.18"
  }
 },
 "nbformat": 4,
 "nbformat_minor": 2
}
